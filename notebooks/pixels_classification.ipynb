{
 "cells": [
  {
   "cell_type": "markdown",
   "metadata": {},
   "source": [
    "# Analyze data using ilastik\n",
    "The notebook shows how load images contained in a dataset\n",
    "from OMERO as numpy arrays and analyze them in ilastik.\n",
    "It assumes that ilastik project is linked to the dataset.\n",
    "The 5D-numpy array is in the order expected by the ilastik project.\n",
    "The order might need to be adjusted depending on the ilastik project."
   ]
  },
  {
   "cell_type": "markdown",
   "metadata": {},
   "source": [
    "### Insert required packages"
   ]
  },
  {
   "cell_type": "code",
   "execution_count": 18,
   "metadata": {},
   "outputs": [],
   "source": [
    "import numpy\n",
    "import os\n",
    "import itertools\n",
    "\n",
    "import tempfile\n",
    "import omero.clients\n",
    "from omero.gateway import BlitzGateway\n",
    "from getpass import getpass\n",
    "from collections import OrderedDict\n",
    "\n",
    "from collections import OrderedDict\n",
    "import ilastik_main\n",
    "from ilastik.applets.dataSelection import DatasetInfo\n",
    "from ilastik.applets.dataSelection.opDataSelection import PreloadedArrayDatasetInfo\n",
    "import ipywidgets as widgets"
   ]
  },
  {
   "cell_type": "markdown",
   "metadata": {},
   "source": [
    "### Create a connection to an OMERO server"
   ]
  },
  {
   "cell_type": "code",
   "execution_count": 19,
   "metadata": {},
   "outputs": [
    {
     "name": "stdout",
     "output_type": "stream",
     "text": [
      "Username: idr\n",
      "OMERO Password: ········\n"
     ]
    },
    {
     "data": {
      "text/plain": [
       "True"
      ]
     },
     "execution_count": 19,
     "metadata": {},
     "output_type": "execute_result"
    }
   ],
   "source": [
    "HOST = 'wss://workshop.openmicroscopy.org/omero-ws'\n",
    "conn = BlitzGateway(input(\"Username: \"),\n",
    "                    getpass(\"OMERO Password: \"),\n",
    "                    host=HOST, secure=True)\n",
    "conn.connect()"
   ]
  },
  {
   "cell_type": "markdown",
   "metadata": {},
   "source": [
    "### Enter the dataset ID"
   ]
  },
  {
   "cell_type": "code",
   "execution_count": 20,
   "metadata": {},
   "outputs": [],
   "source": [
    "dataset_id = 6210"
   ]
  },
  {
   "cell_type": "markdown",
   "metadata": {},
   "source": [
    "### Load the ilastik projects linked to the dataset"
   ]
  },
  {
   "cell_type": "code",
   "execution_count": 21,
   "metadata": {},
   "outputs": [],
   "source": [
    "def load_model(dataset_id):\n",
    "    path = tempfile.mkdtemp()\n",
    "    if not os.path.exists(path):\n",
    "        os.makedirs(path)\n",
    "    dataset = conn.getObject(\"Dataset\", dataset_id)\n",
    "    # Go through all the annotations on the Dataset\n",
    "    options = []\n",
    "    for ann in dataset.listAnnotations():\n",
    "        if isinstance(ann, omero.gateway.FileAnnotationWrapper):\n",
    "            name = ann.getFile().getName()\n",
    "            # Select the ilatisk project TODO: use namespace\n",
    "            if name.endswith(\".ilp\"):\n",
    "                file_path = os.path.join(path, name)\n",
    "                options.append((name, file_path))\n",
    "                with open(str(file_path), 'wb') as f:\n",
    "                    for chunk in ann.getFileInChunks():\n",
    "                        f.write(chunk)\n",
    "    return widgets.Dropdown(options=options, disabled=False)"
   ]
  },
  {
   "cell_type": "markdown",
   "metadata": {},
   "source": [
    "### Helper function: load an Image as 5D-numpy array: order TZYXC"
   ]
  },
  {
   "cell_type": "code",
   "execution_count": 22,
   "metadata": {},
   "outputs": [],
   "source": [
    "def load_numpy_array(image):\n",
    "    pixels = image.getPrimaryPixels()\n",
    "    size_z = image.getSizeZ()\n",
    "    size_c = image.getSizeC()\n",
    "    size_t = image.getSizeT()\n",
    "    size_y = image.getSizeY()\n",
    "    size_x = image.getSizeX()\n",
    "    z, t, c = 0, 0, 0  # first plane of the image\n",
    "\n",
    "    zct_list = []\n",
    "    for t in range(size_t):\n",
    "        for z in range(size_z):  # get the Z-stack\n",
    "            for c in range(size_c):  # all channels\n",
    "                zct_list.append((z, c, t))\n",
    "\n",
    "    values = []\n",
    "    # Load all the planes as YX numpy array\n",
    "    planes = pixels.getPlanes(zct_list)\n",
    "    j = 0\n",
    "    k = 0\n",
    "    tmp_c = []\n",
    "    tmp_z = []\n",
    "    s = \"z:%s t:%s c:%s y:%s x:%s\" % (size_z, size_t, size_c, size_y, size_x)\n",
    "    print(s)\n",
    "    # axis tzyxc\n",
    "    print(\"Downloading image %s\" % image.getName())\n",
    "    for i, p in enumerate(planes):\n",
    "        if k < size_z:\n",
    "            if j < size_c:\n",
    "                tmp_c.append(p)\n",
    "                j = j + 1\n",
    "            if j == size_c:\n",
    "                # use dstack to have c at the end\n",
    "                tmp_z.append(numpy.dstack(tmp_c))\n",
    "                tmp_c = []\n",
    "                j = 0\n",
    "                k = k + 1\n",
    "        if k == size_z:  # done with the stack\n",
    "            values.append(numpy.stack(tmp_z))\n",
    "            tmp_z = []\n",
    "            k = 0\n",
    "\n",
    "    return numpy.stack(values)"
   ]
  },
  {
   "cell_type": "code",
   "execution_count": 23,
   "metadata": {},
   "outputs": [],
   "source": [
    "def plane_gen():\n",
    "    \"\"\"\n",
    "    Set up a generator of 2D numpy arrays.\n",
    "\n",
    "    The createImage method below expects planes in the order specified here\n",
    "    (for z.. for c.. for t..)\n",
    "\n",
    "    \"\"\"\n",
    "\n",
    "    size_z = data.shape[0]-1\n",
    "    for z in range(data.shape[0]):  # all Z sections data.shape[0]\n",
    "        print('z: %s/%s' % (z, size_z))\n",
    "        for c in range(data.shape[1]):  # all channels\n",
    "            for t in range(data.shape[2]):  # all time-points\n",
    "                yield data[z][c][t]"
   ]
  },
    {
   "cell_type": "markdown",
   "metadata": {},
   "source": [
    "### Select the ilastik project to use."
   ]
  },
  {
   "cell_type": "code",
   "execution_count": 23,
   "metadata": {},
   "outputs": [],
   "source": [
    "model_selection = load_model(dataset_id)\n",
    "display(model_selection)"
   ]
  },
  {
   "cell_type": "markdown",
   "metadata": {},
   "source": [
    "### Load each image as an 5D-numpy array and analyze.\n",
    "Save the probabilities as an OMERO image"
   ]
  },
  {
   "cell_type": "code",
   "execution_count": 25,
   "metadata": {},
   "outputs": [
    {
     "name": "stdout",
     "output_type": "stream",
     "text": [
      "z:236 t:1 c:2 y:275 x:271\n",
      "Downloading image B1_C1.tif\n",
      "Image converted\n",
      "running ilastik headless using /tmp/tmpInvF2D/pixel-class-wednesday.ilp on file B1_C1.tif\n",
      "Saving Probabilities as an Image in OMERO\n",
      "done\n"
     ]
    }
   ],
   "source": [
    "# Load the model linked to the dataset\n",
    "model_file = model_selection.value\n",
    "\n",
    "images = conn.getObjects('Image', opts={'dataset': dataset_id})\n",
    "\n",
    "# Create a new dataset where to upload the generated images\n",
    "dataset_obj = omero.model.DatasetI()\n",
    "v = \"ilastik_probabilities_from_dataset_%s\" % dataset_id\n",
    "dataset_obj.setName(omero.rtypes.rstring(v))\n",
    "v = \"ilatisk results probabilities from Dataset:%s\" % dataset_id\n",
    "dataset_obj.setDescription(omero.rtypes.rstring(v))\n",
    "dataset_obj = conn.getUpdateService().saveAndReturnObject(dataset_obj)\n",
    "\n",
    "# Prepare ilastik\n",
    "os.environ[\"LAZYFLOW_THREADS\"] = \"2\"\n",
    "os.environ[\"LAZYFLOW_TOTAL_RAM_MB\"] = \"2000\"\n",
    "args = ilastik_main.parse_args([])\n",
    "args.headless = True\n",
    "args.project = model_file\n",
    "shell = ilastik_main.main(args)\n",
    "\n",
    "images = itertools.islice(images, 2)\n",
    "for image in images:\n",
    "    filename, file_extension = os.path.splitext(image.getName())\n",
    "    input_data = load_numpy_array(image)\n",
    "\n",
    "    # run ilastik headless\n",
    "    print('running ilastik using %s and %s' % (model_file, image.getName()))\n",
    "    role_data_dict = OrderedDict(\n",
    "    [\n",
    "        (\n",
    "            \"Raw Data\",\n",
    "            [\n",
    "                PreloadedArrayDatasetInfo(preloaded_array=input_data)\n",
    "            ],\n",
    "        )\n",
    "    ])\n",
    "\n",
    "    predictions = shell.workflow.batchProcessingApplet.run_export(role_data_dict, export_to_array=True)\n",
    "    # Save the probabilities file to the image\n",
    "    print(\"Saving Probabilities as an Image in OMERO\")\n",
    "    name = filename + \"_Probabilities\"\n",
    "    desc = \"ilastik probabilities from Image:%s\" % image.getId()\n",
    "    for data in predictions:\n",
    "        # Re-organise array from tzyxc to zctyx order expected by OMERO\n",
    "        data = data.swapaxes(0, 1).swapaxes(3, 4).swapaxes(2, 3).swapaxes(1, 2)\n",
    "        conn.createImageFromNumpySeq(plane_gen(), name,\n",
    "                                     data.shape[0], data.shape[1],\n",
    "                                     data.shape[2], description=desc,\n",
    "                                     dataset=dataset_obj)\n",
    "\n",
    "print(\"done\")"
   ]
  },
  {
   "cell_type": "markdown",
   "metadata": {},
   "source": [
    "### Close the connection to the OMERO server"
   ]
  },
  {
   "cell_type": "code",
   "execution_count": 10,
   "metadata": {},
   "outputs": [],
   "source": [
    "conn.close()"
   ]
  },
  {
   "cell_type": "markdown",
   "metadata": {
    "collapsed": true
   },
   "source": [
    "### License\n",
    "Copyright (C) 2019-2020 University of Dundee. All Rights Reserved.\n",
    "This program is free software; you can redistribute it and/or modify it\n",
    "under the terms of the GNU General Public License as published by the\n",
    "Free Software Foundation; either version 2 of the License, or\n",
    "(at your option) any later version.\n",
    "This program is distributed in the hope that it will be useful, but\n",
    "WITHOUT ANY WARRANTY; without even the implied warranty of MERCHANTABILITY\n",
    "or FITNESS FOR A PARTICULAR PURPOSE. See the GNU General Public License for\n",
    "more details. You should have received a copy of the GNU General\n",
    "Public License along with this program; if not, write to the\n",
    "Free Software Foundation,\n",
    "Inc., 51 Franklin Street, Fifth Floor, Boston, MA 02110-1301 USA."
   ]
  }
 ],
 "metadata": {
  "kernelspec": {
   "display_name": "Python 3",
   "language": "python",
   "name": "python3"
  },
  "language_info": {
   "codemirror_mode": {
    "name": "ipython",
    "version": 2
   },
   "file_extension": ".py",
   "mimetype": "text/x-python",
   "name": "python",
   "nbconvert_exporter": "python",
   "pygments_lexer": "ipython2",
   "version": "2.7.15"
  },
  "toc": {
   "base_numbering": 1,
   "nav_menu": {},
   "number_sections": false,
   "sideBar": false,
   "skip_h1_title": false,
   "title_cell": "Table of Contents",
   "title_sidebar": "Contents",
   "toc_cell": false,
   "toc_position": {},
   "toc_section_display": false,
   "toc_window_display": false
  }
 },
 "nbformat": 4,
 "nbformat_minor": 2
}
