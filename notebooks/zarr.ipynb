{
 "cells": [
  {
   "cell_type": "markdown",
   "metadata": {},
   "source": [
    "# OME Zarr format\n",
    "\n",
    "Another option provided by `bioformats2raw` is `--file_type` which produces Zarr output rather than N5 as the intermediate format. If we additionally pass the `--dimension-order` argument, then the intermediate result can be used directly by the ome-zarr library.\n",
    "\n"
   ]
  },
  {
   "cell_type": "code",
   "execution_count": 2,
   "metadata": {},
   "outputs": [
    {
     "name": "stdout",
     "output_type": "stream",
     "text": [
      "2020-05-20 12:44:19,680 [main] INFO  c.g.bioformats2raw.Converter - Output will be incompatible with raw2ometiff (pyramidName: data.zarr, scaleFormatString: %d/%d)\n",
      "2020-05-20 12:44:20,201 [main] INFO  loci.formats.ImageReader - FakeReader initializing a.fake\n",
      "2020-05-20 12:44:20,324 [main] INFO  c.g.bioformats2raw.Converter - Using 2 pyramid resolutions\n",
      "2020-05-20 12:44:20,325 [main] INFO  c.g.bioformats2raw.Converter - Preparing to write pyramid sizeX 512 (tileWidth: 1024) sizeY 512 (tileWidth: 1024) imageCount 1\n",
      "2020-05-20 12:44:20,573 [main] WARN  c.g.bioformats2raw.Converter - Reducing active tileWidth to 512\n",
      "2020-05-20 12:44:20,573 [main] WARN  c.g.bioformats2raw.Converter - Reducing active tileHeight to 512\n",
      "2020-05-20 12:44:20,587 [pool-1-thread-1] INFO  c.g.bioformats2raw.Converter - requesting tile to write at [0, 0, 0, 0, 0] to /0/0\n",
      "2020-05-20 12:44:20,598 [pool-1-thread-1] INFO  c.g.bioformats2raw.Converter - tile read complete 1/1\n",
      "2020-05-20 12:44:20,598 [pool-1-thread-1] INFO  org.perf4j.TimingLogger - start[1589971460587] time[10] tag[getTile]\n",
      "2020-05-20 12:44:20,601 [pool-1-thread-1] INFO  c.g.bioformats2raw.Converter - successfully wrote at [0, 0, 0, 0, 0] to /0/0\n",
      "2020-05-20 12:44:20,601 [pool-1-thread-1] INFO  c.g.bioformats2raw.Converter - Successfully processed tile; resolution=0 plane=0 xx=0 yy=0 width=512 height=512\n",
      "2020-05-20 12:44:20,601 [main] WARN  c.g.bioformats2raw.Converter - Reducing active tileWidth to 256\n",
      "2020-05-20 12:44:20,601 [main] WARN  c.g.bioformats2raw.Converter - Reducing active tileHeight to 256\n",
      "2020-05-20 12:44:20,605 [pool-1-thread-2] INFO  c.g.bioformats2raw.Converter - requesting tile to write at [0, 0, 0, 0, 0] to /0/1\n",
      "2020-05-20 12:44:20,612 [pool-1-thread-2] INFO  org.perf4j.TimingLogger - start[1589971460605] time[6] tag[getTileDownsampled]\n",
      "2020-05-20 12:44:20,612 [pool-1-thread-2] INFO  c.g.bioformats2raw.Converter - tile read complete 1/1\n",
      "2020-05-20 12:44:20,612 [pool-1-thread-2] INFO  org.perf4j.TimingLogger - start[1589971460605] time[7] tag[getTile]\n",
      "2020-05-20 12:44:20,613 [pool-1-thread-2] INFO  c.g.bioformats2raw.Converter - successfully wrote at [0, 0, 0, 0, 0] to /0/1\n",
      "2020-05-20 12:44:20,614 [pool-1-thread-2] INFO  c.g.bioformats2raw.Converter - Successfully processed tile; resolution=1 plane=0 xx=0 yy=0 width=256 height=256\n",
      "CPU times: user 18.4 ms, sys: 9.33 ms, total: 27.7 ms\n",
      "Wall time: 1.62 s\n"
     ]
    }
   ],
   "source": [
    "%%time\n",
    "!bioformats2raw a.fake /tmp/output-3 --file_type=zarr --dimension-order=XYZCT"
   ]
  },
  {
   "cell_type": "code",
   "execution_count": 6,
   "metadata": {},
   "outputs": [
    {
     "data": {
      "text/plain": [
       "True"
      ]
     },
     "execution_count": 6,
     "metadata": {},
     "output_type": "execute_result"
    }
   ],
   "source": [
    "import ome_zarr\n",
    "z = ome_zarr.parse_url(\"/tmp/output-3/data.zarr/0\")\n",
    "z.is_ome_zarr()"
   ]
  },
  {
   "cell_type": "code",
   "execution_count": 7,
   "metadata": {},
   "outputs": [
    {
     "name": "stdout",
     "output_type": "stream",
     "text": [
      "root_attrs {'multiscales': [{'datasets': [{'path': '0'}, {'path': '1'}], 'version': '0.1'}]}\n",
      "resolutions ['0', '1']\n",
      "resolution 0 shape (t, c, z, y, x) (1, 1, 1, 512, 512) chunks ['1', '1', '1', '512', '512'] dtype uint8\n",
      "resolution 1 shape (t, c, z, y, x) (1, 1, 1, 256, 256) chunks ['1', '1', '1', '256', '256'] dtype uint8\n",
      "[([dask.array<from-zarr, shape=(1, 1, 1, 512, 512), dtype=uint8, chunksize=(1, 1, 1, 512, 512), chunktype=numpy.ndarray>, dask.array<from-zarr, shape=(1, 1, 1, 256, 256), dtype=uint8, chunksize=(1, 1, 1, 256, 256), chunktype=numpy.ndarray>], {'channel_axis': 1})]\n"
     ]
    }
   ],
   "source": [
    "!ome_zarr info /tmp/output-3/data.zarr/0"
   ]
  },
  {
   "cell_type": "markdown",
   "metadata": {
    "collapsed": true
   },
   "source": [
    "### License\n",
    "Copyright (C) 2019-2020 University of Dundee. All Rights Reserved.\n",
    "This program is free software; you can redistribute it and/or modify it\n",
    "under the terms of the GNU General Public License as published by the\n",
    "Free Software Foundation; either version 2 of the License, or\n",
    "(at your option) any later version.\n",
    "This program is distributed in the hope that it will be useful, but\n",
    "WITHOUT ANY WARRANTY; without even the implied warranty of MERCHANTABILITY\n",
    "or FITNESS FOR A PARTICULAR PURPOSE. See the GNU General Public License for\n",
    "more details. You should have received a copy of the GNU General\n",
    "Public License along with this program; if not, write to the\n",
    "Free Software Foundation,\n",
    "Inc., 51 Franklin Street, Fifth Floor, Boston, MA 02110-1301 USA."
   ]
  }
 ],
 "metadata": {
  "anaconda-cloud": {},
  "kernelspec": {
   "display_name": "Python [conda env:demo]",
   "language": "python",
   "name": "conda-env-demo-py"
  },
  "language_info": {
   "codemirror_mode": {
    "name": "ipython",
    "version": 3
   },
   "file_extension": ".py",
   "mimetype": "text/x-python",
   "name": "python",
   "nbconvert_exporter": "python",
   "pygments_lexer": "ipython3",
   "version": "3.6.10"
  },
  "toc": {
   "base_numbering": 1,
   "nav_menu": {},
   "number_sections": false,
   "sideBar": false,
   "skip_h1_title": false,
   "title_cell": "Table of Contents",
   "title_sidebar": "Contents",
   "toc_cell": false,
   "toc_position": {},
   "toc_section_display": false,
   "toc_window_display": false
  }
 },
 "nbformat": 4,
 "nbformat_minor": 2
}
